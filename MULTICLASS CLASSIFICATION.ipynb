{
 "cells": [
  {
   "cell_type": "code",
   "execution_count": 1,
   "id": "35b3feaf",
   "metadata": {},
   "outputs": [
    {
     "name": "stdout",
     "output_type": "stream",
     "text": [
      "2.11.0\n"
     ]
    }
   ],
   "source": [
    "# TensorFlow and tf.keras\n",
    "import tensorflow as tf\n",
    "\n",
    "# Helper libraries\n",
    "import numpy as np\n",
    "import matplotlib.pyplot as plt\n",
    "\n",
    "print(tf.__version__)"
   ]
  },
  {
   "cell_type": "code",
   "execution_count": 2,
   "id": "d0ca4784",
   "metadata": {},
   "outputs": [
    {
     "name": "stdout",
     "output_type": "stream",
     "text": [
      "Downloading data from https://storage.googleapis.com/tensorflow/tf-keras-datasets/train-labels-idx1-ubyte.gz\n",
      "29515/29515 [==============================] - 0s 0us/step\n",
      "Downloading data from https://storage.googleapis.com/tensorflow/tf-keras-datasets/train-images-idx3-ubyte.gz\n",
      "26421880/26421880 [==============================] - 10s 0us/step\n",
      "Downloading data from https://storage.googleapis.com/tensorflow/tf-keras-datasets/t10k-labels-idx1-ubyte.gz\n",
      "5148/5148 [==============================] - 0s 0s/step\n",
      "Downloading data from https://storage.googleapis.com/tensorflow/tf-keras-datasets/t10k-images-idx3-ubyte.gz\n",
      "4422102/4422102 [==============================] - 1s 0us/step\n"
     ]
    }
   ],
   "source": [
    "fashion_mnist = tf.keras.datasets.fashion_mnist\n",
    "\n",
    "(train_images, train_labels), (test_images, test_labels) = fashion_mnist.load_data()"
   ]
  },
  {
   "cell_type": "code",
   "execution_count": 3,
   "id": "8b1ce684",
   "metadata": {},
   "outputs": [],
   "source": [
    "class_names = ['T-shirt/top', 'Trouser', 'Pullover', 'Dress', 'Coat',\n",
    "               'Sandal', 'Shirt', 'Sneaker', 'Bag', 'Ankle boot']"
   ]
  },
  {
   "cell_type": "code",
   "execution_count": 4,
   "id": "f6a58be0",
   "metadata": {},
   "outputs": [
    {
     "data": {
      "text/plain": [
       "(60000, 28, 28)"
      ]
     },
     "execution_count": 4,
     "metadata": {},
     "output_type": "execute_result"
    }
   ],
   "source": [
    "train_images.shape"
   ]
  },
  {
   "cell_type": "code",
   "execution_count": 5,
   "id": "6f3f7bbd",
   "metadata": {},
   "outputs": [
    {
     "data": {
      "text/plain": [
       "array([[  0,   0,   0,   0,   0,   0,   0,   0,   0,   0,   0,   0,   0,\n",
       "          0,   0,   0,   0,   0,   0,   0,   0,   0,   0,   0,   0,   0,\n",
       "          0,   0],\n",
       "       [  0,   0,   0,   0,   0,   0,   0,   0,   0,   0,   0,   0,   0,\n",
       "          0,   0,   0,   0,   0,   0,   0,   0,   0,   0,   0,   0,   0,\n",
       "          0,   0],\n",
       "       [  0,   0,   0,   0,   0,   0,   0,   0,   0,   0,   0,   0,   0,\n",
       "          0,   0,   0,   0,   0,   0,   0,   0,   0,   0,   0,   0,   0,\n",
       "          0,   0],\n",
       "       [  0,   0,   0,   0,   0,   0,   0,   0,   0,   0,   0,   0,   1,\n",
       "          0,   0,  13,  73,   0,   0,   1,   4,   0,   0,   0,   0,   1,\n",
       "          1,   0],\n",
       "       [  0,   0,   0,   0,   0,   0,   0,   0,   0,   0,   0,   0,   3,\n",
       "          0,  36, 136, 127,  62,  54,   0,   0,   0,   1,   3,   4,   0,\n",
       "          0,   3],\n",
       "       [  0,   0,   0,   0,   0,   0,   0,   0,   0,   0,   0,   0,   6,\n",
       "          0, 102, 204, 176, 134, 144, 123,  23,   0,   0,   0,   0,  12,\n",
       "         10,   0],\n",
       "       [  0,   0,   0,   0,   0,   0,   0,   0,   0,   0,   0,   0,   0,\n",
       "          0, 155, 236, 207, 178, 107, 156, 161, 109,  64,  23,  77, 130,\n",
       "         72,  15],\n",
       "       [  0,   0,   0,   0,   0,   0,   0,   0,   0,   0,   0,   1,   0,\n",
       "         69, 207, 223, 218, 216, 216, 163, 127, 121, 122, 146, 141,  88,\n",
       "        172,  66],\n",
       "       [  0,   0,   0,   0,   0,   0,   0,   0,   0,   1,   1,   1,   0,\n",
       "        200, 232, 232, 233, 229, 223, 223, 215, 213, 164, 127, 123, 196,\n",
       "        229,   0],\n",
       "       [  0,   0,   0,   0,   0,   0,   0,   0,   0,   0,   0,   0,   0,\n",
       "        183, 225, 216, 223, 228, 235, 227, 224, 222, 224, 221, 223, 245,\n",
       "        173,   0],\n",
       "       [  0,   0,   0,   0,   0,   0,   0,   0,   0,   0,   0,   0,   0,\n",
       "        193, 228, 218, 213, 198, 180, 212, 210, 211, 213, 223, 220, 243,\n",
       "        202,   0],\n",
       "       [  0,   0,   0,   0,   0,   0,   0,   0,   0,   1,   3,   0,  12,\n",
       "        219, 220, 212, 218, 192, 169, 227, 208, 218, 224, 212, 226, 197,\n",
       "        209,  52],\n",
       "       [  0,   0,   0,   0,   0,   0,   0,   0,   0,   0,   6,   0,  99,\n",
       "        244, 222, 220, 218, 203, 198, 221, 215, 213, 222, 220, 245, 119,\n",
       "        167,  56],\n",
       "       [  0,   0,   0,   0,   0,   0,   0,   0,   0,   4,   0,   0,  55,\n",
       "        236, 228, 230, 228, 240, 232, 213, 218, 223, 234, 217, 217, 209,\n",
       "         92,   0],\n",
       "       [  0,   0,   1,   4,   6,   7,   2,   0,   0,   0,   0,   0, 237,\n",
       "        226, 217, 223, 222, 219, 222, 221, 216, 223, 229, 215, 218, 255,\n",
       "         77,   0],\n",
       "       [  0,   3,   0,   0,   0,   0,   0,   0,   0,  62, 145, 204, 228,\n",
       "        207, 213, 221, 218, 208, 211, 218, 224, 223, 219, 215, 224, 244,\n",
       "        159,   0],\n",
       "       [  0,   0,   0,   0,  18,  44,  82, 107, 189, 228, 220, 222, 217,\n",
       "        226, 200, 205, 211, 230, 224, 234, 176, 188, 250, 248, 233, 238,\n",
       "        215,   0],\n",
       "       [  0,  57, 187, 208, 224, 221, 224, 208, 204, 214, 208, 209, 200,\n",
       "        159, 245, 193, 206, 223, 255, 255, 221, 234, 221, 211, 220, 232,\n",
       "        246,   0],\n",
       "       [  3, 202, 228, 224, 221, 211, 211, 214, 205, 205, 205, 220, 240,\n",
       "         80, 150, 255, 229, 221, 188, 154, 191, 210, 204, 209, 222, 228,\n",
       "        225,   0],\n",
       "       [ 98, 233, 198, 210, 222, 229, 229, 234, 249, 220, 194, 215, 217,\n",
       "        241,  65,  73, 106, 117, 168, 219, 221, 215, 217, 223, 223, 224,\n",
       "        229,  29],\n",
       "       [ 75, 204, 212, 204, 193, 205, 211, 225, 216, 185, 197, 206, 198,\n",
       "        213, 240, 195, 227, 245, 239, 223, 218, 212, 209, 222, 220, 221,\n",
       "        230,  67],\n",
       "       [ 48, 203, 183, 194, 213, 197, 185, 190, 194, 192, 202, 214, 219,\n",
       "        221, 220, 236, 225, 216, 199, 206, 186, 181, 177, 172, 181, 205,\n",
       "        206, 115],\n",
       "       [  0, 122, 219, 193, 179, 171, 183, 196, 204, 210, 213, 207, 211,\n",
       "        210, 200, 196, 194, 191, 195, 191, 198, 192, 176, 156, 167, 177,\n",
       "        210,  92],\n",
       "       [  0,   0,  74, 189, 212, 191, 175, 172, 175, 181, 185, 188, 189,\n",
       "        188, 193, 198, 204, 209, 210, 210, 211, 188, 188, 194, 192, 216,\n",
       "        170,   0],\n",
       "       [  2,   0,   0,   0,  66, 200, 222, 237, 239, 242, 246, 243, 244,\n",
       "        221, 220, 193, 191, 179, 182, 182, 181, 176, 166, 168,  99,  58,\n",
       "          0,   0],\n",
       "       [  0,   0,   0,   0,   0,   0,   0,  40,  61,  44,  72,  41,  35,\n",
       "          0,   0,   0,   0,   0,   0,   0,   0,   0,   0,   0,   0,   0,\n",
       "          0,   0],\n",
       "       [  0,   0,   0,   0,   0,   0,   0,   0,   0,   0,   0,   0,   0,\n",
       "          0,   0,   0,   0,   0,   0,   0,   0,   0,   0,   0,   0,   0,\n",
       "          0,   0],\n",
       "       [  0,   0,   0,   0,   0,   0,   0,   0,   0,   0,   0,   0,   0,\n",
       "          0,   0,   0,   0,   0,   0,   0,   0,   0,   0,   0,   0,   0,\n",
       "          0,   0]], dtype=uint8)"
      ]
     },
     "execution_count": 5,
     "metadata": {},
     "output_type": "execute_result"
    }
   ],
   "source": [
    "\n",
    "# data of first image\n",
    "train_images[0]"
   ]
  },
  {
   "cell_type": "code",
   "execution_count": 6,
   "id": "53f0e664",
   "metadata": {},
   "outputs": [
    {
     "data": {
      "text/plain": [
       "60000"
      ]
     },
     "execution_count": 6,
     "metadata": {},
     "output_type": "execute_result"
    }
   ],
   "source": [
    "len(train_labels)"
   ]
  },
  {
   "cell_type": "code",
   "execution_count": 7,
   "id": "5e98cdd6",
   "metadata": {},
   "outputs": [
    {
     "data": {
      "text/plain": [
       "array([9, 0, 0, ..., 3, 0, 5], dtype=uint8)"
      ]
     },
     "execution_count": 7,
     "metadata": {},
     "output_type": "execute_result"
    }
   ],
   "source": [
    "train_labels"
   ]
  },
  {
   "cell_type": "code",
   "execution_count": 8,
   "id": "72b908a9",
   "metadata": {},
   "outputs": [
    {
     "data": {
      "text/plain": [
       "array([9, 0, 0, ..., 3, 0, 5], dtype=uint8)"
      ]
     },
     "execution_count": 8,
     "metadata": {},
     "output_type": "execute_result"
    }
   ],
   "source": [
    "train_labels"
   ]
  },
  {
   "cell_type": "code",
   "execution_count": 9,
   "id": "d4220323",
   "metadata": {},
   "outputs": [
    {
     "data": {
      "text/plain": [
       "(10000, 28, 28)"
      ]
     },
     "execution_count": 9,
     "metadata": {},
     "output_type": "execute_result"
    }
   ],
   "source": [
    "test_images.shape"
   ]
  },
  {
   "cell_type": "code",
   "execution_count": 10,
   "id": "560cb810",
   "metadata": {},
   "outputs": [
    {
     "data": {
      "text/plain": [
       "10000"
      ]
     },
     "execution_count": 10,
     "metadata": {},
     "output_type": "execute_result"
    }
   ],
   "source": [
    "len(test_labels)"
   ]
  },
  {
   "cell_type": "code",
   "execution_count": 12,
   "id": "a740f74f",
   "metadata": {},
   "outputs": [
    {
     "data": {
      "text/plain": [
       "255"
      ]
     },
     "execution_count": 12,
     "metadata": {},
     "output_type": "execute_result"
    }
   ],
   "source": [
    "# what is maximum value in train image array\n",
    "train_images[0].max()"
   ]
  },
  {
   "cell_type": "code",
   "execution_count": 13,
   "id": "3b18a3df",
   "metadata": {},
   "outputs": [
    {
     "data": {
      "text/plain": [
       "0"
      ]
     },
     "execution_count": 13,
     "metadata": {},
     "output_type": "execute_result"
    }
   ],
   "source": [
    "# what is minimum value in train image array\n",
    "train_images[0].min()"
   ]
  },
  {
   "cell_type": "code",
   "execution_count": 15,
   "id": "e3d3cd4b",
   "metadata": {},
   "outputs": [],
   "source": [
    "# Scale these values to a range of 0 to 1\n",
    "train_images = train_images / 255.0\n",
    "\n",
    "test_images = test_images / 255.0"
   ]
  },
  {
   "cell_type": "code",
   "execution_count": 17,
   "id": "00eefbbb",
   "metadata": {},
   "outputs": [
    {
     "name": "stdout",
     "output_type": "stream",
     "text": [
      "Model: \"sequential\"\n",
      "_________________________________________________________________\n",
      " Layer (type)                Output Shape              Param #   \n",
      "=================================================================\n",
      " Input_Layer (Flatten)       (None, 784)               0         \n",
      "                                                                 \n",
      " Hidden_Layer (Dense)        (None, 128)               100480    \n",
      "                                                                 \n",
      " Output_Layer (Dense)        (None, 10)                1290      \n",
      "                                                                 \n",
      "=================================================================\n",
      "Total params: 101,770\n",
      "Trainable params: 101,770\n",
      "Non-trainable params: 0\n",
      "_________________________________________________________________\n"
     ]
    }
   ],
   "source": [
    "model = tf.keras.Sequential([\n",
    "    tf.keras.layers.Flatten(input_shape=(28, 28),name='Input_Layer'),\n",
    "    tf.keras.layers.Dense(128, activation='relu',name='Hidden_Layer'),\n",
    "    tf.keras.layers.Dense(10,activation='softmax',name='Output_Layer')\n",
    "])\n",
    "\n",
    "model.summary()"
   ]
  },
  {
   "cell_type": "code",
   "execution_count": 18,
   "id": "c5a8b9a0",
   "metadata": {},
   "outputs": [],
   "source": [
    "model.compile(optimizer='adam',\n",
    "              loss=tf.keras.losses.SparseCategoricalCrossentropy(from_logits=True),\n",
    "              metrics=['accuracy'])"
   ]
  },
  {
   "cell_type": "code",
   "execution_count": 19,
   "id": "b0ae1042",
   "metadata": {},
   "outputs": [
    {
     "name": "stdout",
     "output_type": "stream",
     "text": [
      "Epoch 1/100\n"
     ]
    },
    {
     "name": "stderr",
     "output_type": "stream",
     "text": [
      "C:\\Users\\admin\\AppData\\Roaming\\Python\\Python39\\site-packages\\keras\\backend.py:5585: UserWarning: \"`sparse_categorical_crossentropy` received `from_logits=True`, but the `output` argument was produced by a Softmax activation and thus does not represent logits. Was this intended?\n",
      "  output, from_logits = _get_logits(\n"
     ]
    },
    {
     "name": "stdout",
     "output_type": "stream",
     "text": [
      "3750/3750 [==============================] - 8s 2ms/step - loss: 0.9433 - accuracy: 0.6902\n",
      "Epoch 2/100\n",
      "3750/3750 [==============================] - 6s 2ms/step - loss: 0.5916 - accuracy: 0.7857\n",
      "Epoch 3/100\n",
      "3750/3750 [==============================] - 7s 2ms/step - loss: 0.5250 - accuracy: 0.8131\n",
      "Epoch 4/100\n",
      "3750/3750 [==============================] - 7s 2ms/step - loss: 0.4903 - accuracy: 0.8270\n",
      "Epoch 5/100\n",
      "3750/3750 [==============================] - 7s 2ms/step - loss: 0.4670 - accuracy: 0.8356\n",
      "Epoch 6/100\n",
      "3750/3750 [==============================] - 7s 2ms/step - loss: 0.4506 - accuracy: 0.8415\n",
      "Epoch 7/100\n",
      "3750/3750 [==============================] - 7s 2ms/step - loss: 0.4388 - accuracy: 0.8448\n",
      "Epoch 8/100\n",
      "3750/3750 [==============================] - 7s 2ms/step - loss: 0.4278 - accuracy: 0.8490\n",
      "Epoch 9/100\n",
      "3750/3750 [==============================] - 7s 2ms/step - loss: 0.4193 - accuracy: 0.8525\n",
      "Epoch 10/100\n",
      "3750/3750 [==============================] - 7s 2ms/step - loss: 0.4119 - accuracy: 0.8555\n",
      "Epoch 11/100\n",
      "3750/3750 [==============================] - 7s 2ms/step - loss: 0.4050 - accuracy: 0.8577\n",
      "Epoch 12/100\n",
      "3750/3750 [==============================] - 7s 2ms/step - loss: 0.3996 - accuracy: 0.8593\n",
      "Epoch 13/100\n",
      "3750/3750 [==============================] - 7s 2ms/step - loss: 0.3940 - accuracy: 0.8604\n",
      "Epoch 14/100\n",
      "3750/3750 [==============================] - 7s 2ms/step - loss: 0.3884 - accuracy: 0.8623\n",
      "Epoch 15/100\n",
      "3750/3750 [==============================] - 7s 2ms/step - loss: 0.3843 - accuracy: 0.8646\n",
      "Epoch 16/100\n",
      "3750/3750 [==============================] - 7s 2ms/step - loss: 0.3792 - accuracy: 0.8661\n",
      "Epoch 17/100\n",
      "3750/3750 [==============================] - 8s 2ms/step - loss: 0.3755 - accuracy: 0.8677\n",
      "Epoch 18/100\n",
      "3750/3750 [==============================] - 7s 2ms/step - loss: 0.3713 - accuracy: 0.8681\n",
      "Epoch 19/100\n",
      "3750/3750 [==============================] - 6s 2ms/step - loss: 0.3689 - accuracy: 0.8691\n",
      "Epoch 20/100\n",
      "3750/3750 [==============================] - 6s 2ms/step - loss: 0.3649 - accuracy: 0.8713\n",
      "Epoch 21/100\n",
      "3750/3750 [==============================] - 6s 2ms/step - loss: 0.3612 - accuracy: 0.8723\n",
      "Epoch 22/100\n",
      "3750/3750 [==============================] - 6s 2ms/step - loss: 0.3580 - accuracy: 0.8733\n",
      "Epoch 23/100\n",
      "3750/3750 [==============================] - 7s 2ms/step - loss: 0.3551 - accuracy: 0.8740\n",
      "Epoch 24/100\n",
      "3750/3750 [==============================] - 6s 2ms/step - loss: 0.3526 - accuracy: 0.8747\n",
      "Epoch 25/100\n",
      "3750/3750 [==============================] - 6s 2ms/step - loss: 0.3494 - accuracy: 0.8762\n",
      "Epoch 26/100\n",
      "3750/3750 [==============================] - 6s 2ms/step - loss: 0.3464 - accuracy: 0.8770\n",
      "Epoch 27/100\n",
      "3750/3750 [==============================] - 6s 2ms/step - loss: 0.3432 - accuracy: 0.8785\n",
      "Epoch 28/100\n",
      "3750/3750 [==============================] - 6s 2ms/step - loss: 0.3410 - accuracy: 0.8784\n",
      "Epoch 29/100\n",
      "3750/3750 [==============================] - 6s 2ms/step - loss: 0.3382 - accuracy: 0.8803\n",
      "Epoch 30/100\n",
      "3750/3750 [==============================] - 7s 2ms/step - loss: 0.3359 - accuracy: 0.8808\n",
      "Epoch 31/100\n",
      "3750/3750 [==============================] - 7s 2ms/step - loss: 0.3332 - accuracy: 0.8810\n",
      "Epoch 32/100\n",
      "3750/3750 [==============================] - 7s 2ms/step - loss: 0.3304 - accuracy: 0.8832\n",
      "Epoch 33/100\n",
      "3750/3750 [==============================] - 7s 2ms/step - loss: 0.3284 - accuracy: 0.8838\n",
      "Epoch 34/100\n",
      "3750/3750 [==============================] - 7s 2ms/step - loss: 0.3258 - accuracy: 0.8834\n",
      "Epoch 35/100\n",
      "3750/3750 [==============================] - 7s 2ms/step - loss: 0.3234 - accuracy: 0.8848\n",
      "Epoch 36/100\n",
      "3750/3750 [==============================] - 7s 2ms/step - loss: 0.3212 - accuracy: 0.8854\n",
      "Epoch 37/100\n",
      "3750/3750 [==============================] - 7s 2ms/step - loss: 0.3186 - accuracy: 0.8866\n",
      "Epoch 38/100\n",
      "3750/3750 [==============================] - 7s 2ms/step - loss: 0.3170 - accuracy: 0.8870\n",
      "Epoch 39/100\n",
      "3750/3750 [==============================] - 7s 2ms/step - loss: 0.3148 - accuracy: 0.8874\n",
      "Epoch 40/100\n",
      "3750/3750 [==============================] - 7s 2ms/step - loss: 0.3124 - accuracy: 0.8880\n",
      "Epoch 41/100\n",
      "3750/3750 [==============================] - 7s 2ms/step - loss: 0.3099 - accuracy: 0.8894\n",
      "Epoch 42/100\n",
      "3750/3750 [==============================] - 7s 2ms/step - loss: 0.3079 - accuracy: 0.8897\n",
      "Epoch 43/100\n",
      "3750/3750 [==============================] - 7s 2ms/step - loss: 0.3064 - accuracy: 0.8905\n",
      "Epoch 44/100\n",
      "3750/3750 [==============================] - 7s 2ms/step - loss: 0.3035 - accuracy: 0.8919\n",
      "Epoch 45/100\n",
      "3750/3750 [==============================] - 7s 2ms/step - loss: 0.3026 - accuracy: 0.8922\n",
      "Epoch 46/100\n",
      "3750/3750 [==============================] - 7s 2ms/step - loss: 0.3001 - accuracy: 0.8924\n",
      "Epoch 47/100\n",
      "3750/3750 [==============================] - 7s 2ms/step - loss: 0.2988 - accuracy: 0.8931\n",
      "Epoch 48/100\n",
      "3750/3750 [==============================] - 7s 2ms/step - loss: 0.2964 - accuracy: 0.8937\n",
      "Epoch 49/100\n",
      "3750/3750 [==============================] - 7s 2ms/step - loss: 0.2947 - accuracy: 0.8944\n",
      "Epoch 50/100\n",
      "3750/3750 [==============================] - 7s 2ms/step - loss: 0.2929 - accuracy: 0.8953\n",
      "Epoch 51/100\n",
      "3750/3750 [==============================] - 7s 2ms/step - loss: 0.2909 - accuracy: 0.8965\n",
      "Epoch 52/100\n",
      "3750/3750 [==============================] - 7s 2ms/step - loss: 0.2890 - accuracy: 0.8970\n",
      "Epoch 53/100\n",
      "3750/3750 [==============================] - 6s 2ms/step - loss: 0.2873 - accuracy: 0.8979\n",
      "Epoch 54/100\n",
      "3750/3750 [==============================] - 6s 2ms/step - loss: 0.2855 - accuracy: 0.8978\n",
      "Epoch 55/100\n",
      "3750/3750 [==============================] - 6s 2ms/step - loss: 0.2844 - accuracy: 0.8973\n",
      "Epoch 56/100\n",
      "3750/3750 [==============================] - 7s 2ms/step - loss: 0.2822 - accuracy: 0.8989\n",
      "Epoch 57/100\n",
      "3750/3750 [==============================] - 6s 2ms/step - loss: 0.2811 - accuracy: 0.9001\n",
      "Epoch 58/100\n",
      "3750/3750 [==============================] - 6s 2ms/step - loss: 0.2796 - accuracy: 0.8997\n",
      "Epoch 59/100\n",
      "3750/3750 [==============================] - 7s 2ms/step - loss: 0.2777 - accuracy: 0.9010\n",
      "Epoch 60/100\n",
      "3750/3750 [==============================] - 7s 2ms/step - loss: 0.2761 - accuracy: 0.9012\n",
      "Epoch 61/100\n",
      "3750/3750 [==============================] - 7s 2ms/step - loss: 0.2751 - accuracy: 0.9010\n",
      "Epoch 62/100\n",
      "3750/3750 [==============================] - 7s 2ms/step - loss: 0.2733 - accuracy: 0.9026\n",
      "Epoch 63/100\n",
      "3750/3750 [==============================] - 7s 2ms/step - loss: 0.2718 - accuracy: 0.9025\n",
      "Epoch 64/100\n",
      "3750/3750 [==============================] - 7s 2ms/step - loss: 0.2711 - accuracy: 0.9024\n",
      "Epoch 65/100\n",
      "3750/3750 [==============================] - 7s 2ms/step - loss: 0.2692 - accuracy: 0.9044\n",
      "Epoch 66/100\n",
      "3750/3750 [==============================] - 7s 2ms/step - loss: 0.2677 - accuracy: 0.9036\n",
      "Epoch 67/100\n",
      "3750/3750 [==============================] - 7s 2ms/step - loss: 0.2664 - accuracy: 0.9047\n",
      "Epoch 68/100\n",
      "3750/3750 [==============================] - 7s 2ms/step - loss: 0.2653 - accuracy: 0.9053\n",
      "Epoch 69/100\n",
      "3750/3750 [==============================] - 7s 2ms/step - loss: 0.2638 - accuracy: 0.9053\n",
      "Epoch 70/100\n",
      "3750/3750 [==============================] - 7s 2ms/step - loss: 0.2625 - accuracy: 0.9060\n",
      "Epoch 71/100\n",
      "3750/3750 [==============================] - 7s 2ms/step - loss: 0.2614 - accuracy: 0.9061\n",
      "Epoch 72/100\n",
      "3750/3750 [==============================] - 7s 2ms/step - loss: 0.2605 - accuracy: 0.9060\n",
      "Epoch 73/100\n",
      "3750/3750 [==============================] - 7s 2ms/step - loss: 0.2590 - accuracy: 0.9072\n",
      "Epoch 74/100\n",
      "3750/3750 [==============================] - 7s 2ms/step - loss: 0.2581 - accuracy: 0.9067\n",
      "Epoch 75/100\n",
      "3750/3750 [==============================] - 7s 2ms/step - loss: 0.2568 - accuracy: 0.9080\n",
      "Epoch 76/100\n",
      "3750/3750 [==============================] - 7s 2ms/step - loss: 0.2551 - accuracy: 0.9083\n",
      "Epoch 77/100\n",
      "3750/3750 [==============================] - 7s 2ms/step - loss: 0.2545 - accuracy: 0.9090\n",
      "Epoch 78/100\n",
      "3750/3750 [==============================] - 7s 2ms/step - loss: 0.2534 - accuracy: 0.9087\n",
      "Epoch 79/100\n",
      "3750/3750 [==============================] - 7s 2ms/step - loss: 0.2522 - accuracy: 0.9094\n"
     ]
    },
    {
     "name": "stdout",
     "output_type": "stream",
     "text": [
      "Epoch 80/100\n",
      "3750/3750 [==============================] - 6s 2ms/step - loss: 0.2500 - accuracy: 0.9099\n",
      "Epoch 81/100\n",
      "3750/3750 [==============================] - 7s 2ms/step - loss: 0.2492 - accuracy: 0.9100\n",
      "Epoch 82/100\n",
      "3750/3750 [==============================] - 7s 2ms/step - loss: 0.2486 - accuracy: 0.9104\n",
      "Epoch 83/100\n",
      "3750/3750 [==============================] - 7s 2ms/step - loss: 0.2477 - accuracy: 0.9107\n",
      "Epoch 84/100\n",
      "3750/3750 [==============================] - 7s 2ms/step - loss: 0.2462 - accuracy: 0.9115\n",
      "Epoch 85/100\n",
      "3750/3750 [==============================] - 7s 2ms/step - loss: 0.2452 - accuracy: 0.9118\n",
      "Epoch 86/100\n",
      "3750/3750 [==============================] - 7s 2ms/step - loss: 0.2434 - accuracy: 0.9134\n",
      "Epoch 87/100\n",
      "3750/3750 [==============================] - 6s 2ms/step - loss: 0.2428 - accuracy: 0.9129\n",
      "Epoch 88/100\n",
      "3750/3750 [==============================] - 7s 2ms/step - loss: 0.2421 - accuracy: 0.9136\n",
      "Epoch 89/100\n",
      "3750/3750 [==============================] - 6s 2ms/step - loss: 0.2410 - accuracy: 0.9129\n",
      "Epoch 90/100\n",
      "3750/3750 [==============================] - 7s 2ms/step - loss: 0.2403 - accuracy: 0.9140\n",
      "Epoch 91/100\n",
      "3750/3750 [==============================] - 7s 2ms/step - loss: 0.2388 - accuracy: 0.9141\n",
      "Epoch 92/100\n",
      "3750/3750 [==============================] - 6s 2ms/step - loss: 0.2379 - accuracy: 0.9148\n",
      "Epoch 93/100\n",
      "3750/3750 [==============================] - 6s 2ms/step - loss: 0.2370 - accuracy: 0.9147\n",
      "Epoch 94/100\n",
      "3750/3750 [==============================] - 7s 2ms/step - loss: 0.2359 - accuracy: 0.9146\n",
      "Epoch 95/100\n",
      "3750/3750 [==============================] - 7s 2ms/step - loss: 0.2355 - accuracy: 0.9147\n",
      "Epoch 96/100\n",
      "3750/3750 [==============================] - 7s 2ms/step - loss: 0.2338 - accuracy: 0.9158\n",
      "Epoch 97/100\n",
      "3750/3750 [==============================] - 6s 2ms/step - loss: 0.2329 - accuracy: 0.9167\n",
      "Epoch 98/100\n",
      "3750/3750 [==============================] - 7s 2ms/step - loss: 0.2322 - accuracy: 0.9162\n",
      "Epoch 99/100\n",
      "3750/3750 [==============================] - 6s 2ms/step - loss: 0.2316 - accuracy: 0.9173\n",
      "Epoch 100/100\n",
      "3750/3750 [==============================] - 7s 2ms/step - loss: 0.2301 - accuracy: 0.9173\n"
     ]
    },
    {
     "data": {
      "text/plain": [
       "<keras.callbacks.History at 0x15e234767c0>"
      ]
     },
     "execution_count": 19,
     "metadata": {},
     "output_type": "execute_result"
    }
   ],
   "source": [
    "\n",
    "# train the model with batch size of 16, default batch size is 32\n",
    "model.fit(train_images, train_labels, epochs=100, verbose=1, batch_size=16)"
   ]
  },
  {
   "cell_type": "code",
   "execution_count": null,
   "id": "0290a8ff",
   "metadata": {},
   "outputs": [],
   "source": []
  }
 ],
 "metadata": {
  "kernelspec": {
   "display_name": "Python 3 (ipykernel)",
   "language": "python",
   "name": "python3"
  },
  "language_info": {
   "codemirror_mode": {
    "name": "ipython",
    "version": 3
   },
   "file_extension": ".py",
   "mimetype": "text/x-python",
   "name": "python",
   "nbconvert_exporter": "python",
   "pygments_lexer": "ipython3",
   "version": "3.9.12"
  }
 },
 "nbformat": 4,
 "nbformat_minor": 5
}
